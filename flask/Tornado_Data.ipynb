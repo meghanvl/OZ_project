{
 "cells": [
  {
   "cell_type": "code",
<<<<<<< HEAD
   "execution_count": 102,
=======
   "execution_count": 126,
>>>>>>> c943e5883494f5c9e2558f090c58332beda7cfa9
   "metadata": {},
   "outputs": [],
   "source": [
    "import pandas as pd\n",
    "import sqlalchemy\n",
    "from sqlalchemy.ext.automap import automap_base\n",
    "from sqlalchemy.orm import Session\n",
    "from sqlalchemy import create_engine, func, inspect"
   ]
  },
  {
   "cell_type": "code",
<<<<<<< HEAD
   "execution_count": 108,
=======
   "execution_count": 127,
>>>>>>> c943e5883494f5c9e2558f090c58332beda7cfa9
   "metadata": {},
   "outputs": [],
   "source": [
    "engine = create_engine(\"sqlite:///Tornado_data.sqlite\", echo=False)"
   ]
  },
  {
   "cell_type": "code",
<<<<<<< HEAD
   "execution_count": 109,
=======
   "execution_count": 128,
>>>>>>> c943e5883494f5c9e2558f090c58332beda7cfa9
   "metadata": {},
   "outputs": [],
   "source": [
    "inspector = inspect(engine)"
   ]
  },
  {
   "cell_type": "code",
<<<<<<< HEAD
   "execution_count": 110,
=======
   "execution_count": 129,
>>>>>>> c943e5883494f5c9e2558f090c58332beda7cfa9
   "metadata": {},
   "outputs": [
    {
     "data": {
      "text/plain": [
       "['tornadoes']"
      ]
     },
<<<<<<< HEAD
     "execution_count": 110,
=======
     "execution_count": 129,
>>>>>>> c943e5883494f5c9e2558f090c58332beda7cfa9
     "metadata": {},
     "output_type": "execute_result"
    }
   ],
   "source": [
    "inspector.get_table_names()"
   ]
  },
  {
   "cell_type": "code",
<<<<<<< HEAD
   "execution_count": 111,
=======
   "execution_count": 130,
>>>>>>> c943e5883494f5c9e2558f090c58332beda7cfa9
   "metadata": {},
   "outputs": [
    {
     "name": "stdout",
     "output_type": "stream",
     "text": [
      "EVENT_ID INTEGER\n",
      "CZ_NAME_STR TEXT\n",
      "BEGIN_LOCATION TEXT\n",
      "BEGIN_DATE TEXT\n",
      "BEGIN_TIME INTEGER\n",
      "EVENT_TYPE TEXT\n",
      "MAGNITUDE TEXT\n",
      "TOR_F_SCALE TEXT\n",
      "DEATHS_DIRECT INTEGER\n",
      "INJURIES_DIRECT INTEGER\n",
      "DAMAGE_PROPERTY_NUM INTEGER\n",
      "DAMAGE_CROPS_NUM INTEGER\n",
      "STATE_ABBR TEXT\n",
      "CZ_TIMEZONE TEXT\n",
      "MAGNITUDE_TYPE TEXT\n",
      "EPISODE_ID INTEGER\n",
      "CZ_TYPE TEXT\n",
      "CZ_FIPS INTEGER\n",
      "WFO TEXT\n",
      "INJURIES_INDIRECT INTEGER\n",
      "DEATHS_INDIRECT INTEGER\n",
      "SOURCE TEXT\n",
      "FLOOD_CAUSE TEXT\n",
      "TOR_LENGTH REAL\n",
      "TOR_WIDTH INTEGER\n",
      "BEGIN_RANGE INTEGER\n",
      "BEGIN_AZIMUTH TEXT\n",
      "END_RANGE INTEGER\n",
      "END_AZIMUTH TEXT\n",
      "END_LOCATION TEXT\n",
      "BEGIN_LAT REAL\n",
      "BEGIN_LON REAL\n",
      "END_LAT REAL\n",
      "END_LON REAL\n",
      "EVENT_NARRATIVE TEXT\n",
      "EPISODE_NARRATIVE TEXT\n",
      "ABSOLUTE_ROWNUMBER INTEGER\n"
     ]
    }
   ],
   "source": [
    "columns=inspector.get_columns('tornadoes')\n",
    "for column in columns:\n",
    "    print(column['name'], column['type'])"
   ]
  },
  {
   "cell_type": "code",
<<<<<<< HEAD
   "execution_count": 112,
=======
   "execution_count": 131,
>>>>>>> c943e5883494f5c9e2558f090c58332beda7cfa9
   "metadata": {},
   "outputs": [
    {
     "data": {
      "text/plain": [
<<<<<<< HEAD
       "[(866322, 'CARTERET CO.', 'TRUTTNEYS LNDG', '11/1/2019', 15, 'Tornado', None, 'EF0', 0, 0, 0, 0, 'NC', 'EST-5', None, 144335, 'C', 31, 'MHX', 0, 0, 'NWS Storm Survey', None, 0.37, 60, 1, 'NNW', 1, 'NNW', 'TRUTTNEYS LNDG', 34.7394, -77.1094, 34.7411, -77.1053, 'A brief tornado occurred near the intersection of 3 Oaks Ln and West|Firetower Rd. The tornado formed near the White Oak River, and tracked|in a nort ... (419 characters truncated) ...  6 inch diameter tree limbs snapped. The majority of the branches |were blown to the northeast, consistent with the fast northeasterly |storm motion.', 'A strong cold front moved across Eastern North Carolina overnight into the early morning of November 1st.  Ahead and along this front, a strong line  ... (10 characters truncated) ... storms developed and moved through the area. Along this line, a brief tornado formed over southwestern Carteret County, shortly after midnight (LST).', 1),\n",
       " (859389, 'MARTIN CO.', 'WAVELAND', '11/5/2019', 1620, 'Tornado', None, 'EF0', 0, 0, 0, 0, 'FL', 'EST-5', None, 143272, 'C', 85, 'MLB', 0, 0, 'County Official', None, 0.26, 10, 2, 'ENE', 2, 'ENE', 'WAVELAND', 27.214, -80.1729, 27.2123, -80.1766, 'Martin County Beach Patrol reported a waterspout offshore of Stuart Beach at 1620 LST. The beach was evacuated as the waterspout came onshore and bec ... (141 characters truncated) ...  moving onshore, a trained spotter relayed that the spout dissipated quickly near the Hutchinson Island Marriott at 1623 LST. No damage was reported.', 'A strong thunderstorm produced a waterspout just offshore of Stuart Beach. As the storm moved inland the waterspout came onshore and became a short-lived, weak tornado.', 2),\n",
       " (864077, 'MOBILE CO.', 'PRICHARD', '11/7/2019', 1335, 'Tornado', None, 'EF0', 0, 0, 0, 0, 'AL', 'CST-6', None, 143956, 'C', 97, 'MOB', 0, 0, 'NWS Storm Survey', None, 0.38, 25, 0, 'SW', 0, 'SSE', 'PRICHARD', 30.7248, -88.0548, 30.726, -88.0486, 'The storm survey team surveyed the areas around Telegraph Road and Industrial Canal Road based on public video of the tornado touchdown in the area.  ... (599 characters truncated) ... the tornado|continued across US Highway 90 into Blakeley Island. However, the team could|not find any damage points to extend the track further east.', 'Thunderstorms moved across the area during the day. One of the storms became severe and produced brief, weak tornado in Mobile County.', 3),\n",
       " (857862, 'FRANKLIN PAR.', 'BASKIN', '11/26/2019', 1803, 'Tornado', None, 'EF2', 1, 1, 120000, 0, 'LA', 'CST-6', None, 142954, 'C', 41, 'JAN', 0, 0, 'NWS Storm Survey', None, 7.02, 700, 3, 'SW', 4, 'NE', 'BASKIN', 32.2351, -91.7783, 32.3184, -91.7095, 'This tornado began on Roger Miller Road as it snapped the tops of several hardwood trees.  It continued to trek northeast across Big Creek Road where ... (1100 characters truncated) ... way 132/Bienville Trace Scenic Byway, but not before uprooting and snapping multiple hardwood trees along LA Highway 825. Maximum winds were 120 mph.', 'Warm, moist air was in place across northeast Louisiana during the afternoon and evening of November 26th. As a strong cold front neared the region,  ... (43 characters truncated) ... the front. These storms tapped into plenty of wind shear in place across the region and this resulted in a few tornadoes occurring across the region.', 4),\n",
       " (857944, 'CLAIBORNE PAR.', 'MAHAN', '11/26/2019', 1820, 'Tornado', None, 'EF1', 0, 0, 25000, 0, 'LA', 'CST-6', None, 142994, 'C', 27, 'SHV', 0, 0, 'NWS Storm Survey', None, 0.62, 115, 2, 'NNE', 2, 'NNE', 'MAHAN', 32.9017, -93.0423, 32.9076, -93.0343, 'An EF-1 tornado with estimated maximum winds around 95 mph briefly touched down at the intersection of Bell Hill Road and Krause Road, where it produ ... (526 characters truncated) ...  trees and lifted after it crossed a pond on the grounds of the correctional center. An estimated 30 trees were downed along the path of the tornado.', 'A deep southwesterly flow aloft ahead of a large upper trough of low pressure exiting the Rockies into the Central and Southern Plains spread across  ... (461 characters truncated) ... e of these storms did produce a brief tornado in Northwest Claiborne Parish between Homer and Haynesville, before the storms weakened by mid-evening.', 5),\n",
=======
       "[(857862, 'FRANKLIN PAR.', 'BASKIN', '11/26/2019', 1803, 'Tornado', None, 'EF2', 1, 1, 120000, 0, 'LA', 'CST-6', None, 142954, 'C', 41, 'JAN', 0, 0, 'NWS Storm Survey', None, 7.02, 700, 3, 'SW', 4, 'NE', 'BASKIN', 32.2351, -91.7783, 32.3184, -91.7095, 'This tornado began on Roger Miller Road as it snapped the tops of several hardwood trees.  It continued to trek northeast across Big Creek Road where ... (1100 characters truncated) ... way 132/Bienville Trace Scenic Byway, but not before uprooting and snapping multiple hardwood trees along LA Highway 825. Maximum winds were 120 mph.', 'Warm, moist air was in place across northeast Louisiana during the afternoon and evening of November 26th. As a strong cold front neared the region,  ... (43 characters truncated) ... the front. These storms tapped into plenty of wind shear in place across the region and this resulted in a few tornadoes occurring across the region.', 4),\n",
>>>>>>> c943e5883494f5c9e2558f090c58332beda7cfa9
       " (857863, 'MADISON PAR.', 'TENDAL', '11/26/2019', 1846, 'Tornado', None, 'EFU', 0, 0, 0, 0, 'LA', 'CST-6', None, 142954, 'C', 65, 'JAN', 0, 0, 'NWS Storm Survey', None, 1.0, 25, 2, 'NNW', 3, 'ENE', 'WAVERLY', 32.4565, -91.3847, 32.4706, -91.381, 'This tornado initiated east of LA Highway 577 and moved north northeast before lifting east of LA Highway 579. A visual confirmation of the tornado w ... (91 characters truncated) ...  being unable to find snapped or uprooted trees, have elected to designate this tornado as EF-U. Radar also detected lofted debris with this tornado.', 'Warm, moist air was in place across northeast Louisiana during the afternoon and evening of November 26th. As a strong cold front neared the region,  ... (43 characters truncated) ... the front. These storms tapped into plenty of wind shear in place across the region and this resulted in a few tornadoes occurring across the region.', 6),\n",
       " (857865, 'RANKIN CO.', 'WHITES', '11/26/2019', 2357, 'Tornado', None, 'EF2', 0, 0, 120000, 0, 'MS', 'CST-6', None, 142955, 'C', 121, 'JAN', 0, 0, 'NWS Storm Survey', None, 11.89, 500, 4, 'ESE', 4, 'SSW', 'ROOK HILL', 32.0586, -90.1282, 32.1295, -89.9431, 'This tornado started in a wooded area just east of Hwy 469 and just north of the Rankin/Simpson County line. It tracked northeast crossing Henry Byrd ... (1421 characters truncated) ... e was noted. The tornado finally dissipated in a wooded area northeast of Clara Foote Rd before reaching Wade Patrick Rd. Maximum winds were 120 mph.', 'Warm, moist air was in place across central Mississippi during the afternoon and evening of November 26th. As a strong cold front neared the region,  ... (16 characters truncated) ... rstorms developed ahead of the front. These storms tapped into plenty of wind shear in place across the region and this resulted in some wind damage.', 7),\n",
       " (857874, 'RANKIN CO.', 'JOHNS', '11/27/2019', 3, 'Tornado', None, 'EF1', 0, 0, 30000, 0, 'MS', 'CST-6', None, 142955, 'C', 121, 'JAN', 0, 0, 'NWS Storm Survey', None, 4.46, 75, 2, 'E', 3, 'ESE', 'RUFUS', 32.1338, -89.8041, 32.1528, -89.7312, 'This tornado started just east of Johns on the north side of Johns-Mayton Rd where several large tree limbs were snapped. The tornado tracked northea ... (341 characters truncated) ... ing minor tree damage, crossing SCR-142 and Hwy 13 before ending at SCR-131 and SCR 135. Maximum winds were 95 mph, total path length was 7.26 miles.', 'Warm, moist air was in place across central Mississippi during the afternoon and evening of November 26th. As a strong cold front neared the region,  ... (16 characters truncated) ... rstorms developed ahead of the front. These storms tapped into plenty of wind shear in place across the region and this resulted in some wind damage.', 8),\n",
       " (857875, 'SMITH CO.', 'DANIEL', '11/27/2019', 32, 'Tornado', None, 'EF0', 0, 0, 15000, 0, 'MS', 'CST-6', None, 142955, 'C', 129, 'JAN', 0, 0, 'NWS Storm Survey', None, 2.79, 50, 2, 'NNW', 2, 'SE', 'POLKVILLE', 32.1528, -89.7312, 32.1616, -89.6847, 'This tornado started just east of Johns on the north side of Johns-Mayton Rd where several large tree limbs were snapped. The tornado tracked northea ... (403 characters truncated) ... ng at SCR-131 and SCR 135. Maximum winds were 95 mph in Rankin County, total path length was 7.26 miles. Maximum width was 75 yards in Rankin County.', 'Warm, moist air was in place across central Mississippi during the afternoon and evening of November 26th. As a strong cold front neared the region,  ... (16 characters truncated) ... rstorms developed ahead of the front. These storms tapped into plenty of wind shear in place across the region and this resulted in some wind damage.', 9),\n",
<<<<<<< HEAD
       " (865868, 'PIKE CO.', 'BRUNDIDGE MUNI ARPT', '11/27/2019', 905, 'Tornado', None, 'EF0', 0, 0, 0, 0, 'AL', 'CST-6', None, 144257, 'C', 109, 'BMX', 0, 0, 'NWS Storm Survey', None, 0.48, 65, 1, 'E', 1, 'E', 'BRUNDIDGE MUNI ARPT', 31.7283, -85.7842, 31.7266, -85.7764, 'National Weather Service meteorologists surveyed damage in southeast Pike County, just northeast of the town of Brundidge, and determined that it was ... (731 characters truncated) ...  shoulder north of Alabama Highway 10, also indicative of convergence. The tornado dissipated rapidly past this point and produced no further damage.', 'A narrow band of thunderstorms along a pre-frontal trough tracked across the southeast portions of Central Alabama during the morning hours.  Deep layer bulk shear and low level helicity values were sufficient enough to produce three weak tornadoes.', 10)]"
      ]
     },
     "execution_count": 112,
=======
       " (857944, 'CLAIBORNE PAR.', 'MAHAN', '11/26/2019', 1820, 'Tornado', None, 'EF1', 0, 0, 25000, 0, 'LA', 'CST-6', None, 142994, 'C', 27, 'SHV', 0, 0, 'NWS Storm Survey', None, 0.62, 115, 2, 'NNE', 2, 'NNE', 'MAHAN', 32.9017, -93.0423, 32.9076, -93.0343, 'An EF-1 tornado with estimated maximum winds around 95 mph briefly touched down at the intersection of Bell Hill Road and Krause Road, where it produ ... (526 characters truncated) ...  trees and lifted after it crossed a pond on the grounds of the correctional center. An estimated 30 trees were downed along the path of the tornado.', 'A deep southwesterly flow aloft ahead of a large upper trough of low pressure exiting the Rockies into the Central and Southern Plains spread across  ... (461 characters truncated) ... e of these storms did produce a brief tornado in Northwest Claiborne Parish between Homer and Haynesville, before the storms weakened by mid-evening.', 5),\n",
       " (858881, 'GUTHRIE CO.', 'FANSLERS', '11/30/2019', 1613, 'Tornado', None, 'EFU', 0, 0, 0, 500, 'IA', 'CST-6', None, 143182, 'C', 77, 'DMX', 0, 0, 'NWS Storm Survey', None, 1.17, 25, 2, 'E', 3, 'E', 'FANSLERS', 41.7456, -94.4256, 41.7584, -94.4109, 'Tornado touched down in an unharvested corn field just north of 180th street about one half mile west of Redwood Avenue.  The tornado traveled northe ... (25 characters truncated) ... ural fields and crossing Redwood Avenue then ending prior to 170th street.  No damage indicators were impacted by the tornado, hence the EF-U rating.', 'Two weak tornadoes developed ahead of an approaching boundary in an area of weak instability but strong shear.  No damage occurred with these tornadoes.', 18),\n",
       " (859389, 'MARTIN CO.', 'WAVELAND', '11/5/2019', 1620, 'Tornado', None, 'EF0', 0, 0, 0, 0, 'FL', 'EST-5', None, 143272, 'C', 85, 'MLB', 0, 0, 'County Official', None, 0.26, 10, 2, 'ENE', 2, 'ENE', 'WAVELAND', 27.214, -80.1729, 27.2123, -80.1766, 'Martin County Beach Patrol reported a waterspout offshore of Stuart Beach at 1620 LST. The beach was evacuated as the waterspout came onshore and bec ... (141 characters truncated) ...  moving onshore, a trained spotter relayed that the spout dissipated quickly near the Hutchinson Island Marriott at 1623 LST. No damage was reported.', 'A strong thunderstorm produced a waterspout just offshore of Stuart Beach. As the storm moved inland the waterspout came onshore and became a short-lived, weak tornado.', 2),\n",
       " (859562, 'GUTHRIE CO.', 'FANSLERS', '11/30/2019', 1604, 'Tornado', None, 'EFU', 0, 0, 0, 0, 'IA', 'CST-6', None, 143182, 'C', 77, 'DMX', 0, 0, 'Law Enforcement', None, 0.53, 20, 3, 'SSE', 3, 'SE', 'FANSLERS', 41.7142, -94.4399, 41.7207, -94.4346, 'Law Enforcement reported a weak tornado northeast of Guthrie Center near the southern shore of Lake Panorama.  The tornado remained in rural areas with no damage indicators impacted, therefore an EF-U rating.', 'Two weak tornadoes developed ahead of an approaching boundary in an area of weak instability but strong shear.  No damage occurred with these tornadoes.', 17),\n",
       " (860403, 'ST. JOHNS CO.', 'ELKTON', '12/14/2019', 505, 'Tornado', None, 'EF0', 0, 0, 0, 0, 'FL', 'EST-5', None, 143415, 'C', 109, 'JAX', 0, 0, 'NWS Storm Survey', None, 0.25, 325, 0, 'NE', 1, 'NE', 'ELKTON', 29.7839, -81.4265, 29.7855, -81.4236, 'The tornado appeared to have touched down shortly after 5 am and tracked ENE from near the SW corner of Saint Ambrose Church Road and County Road 305 ... (513 characters truncated) ...  bent and/or twisted in Elkton. Metal roof panels were stripped off of a building and thrown over a fence. A door was also extracted from a building.', 'On Friday, 13 December 2019, a warm front lifted and lingered across northeast Florida with surface dew points rising into the mid to upper 60s gener ... (868 characters truncated) ... d strong dynamical lift under the upper low and just south of the surface low spawned a couple of persistent supercells with long-lived mesocyclones.', 20)]"
      ]
     },
     "execution_count": 131,
>>>>>>> c943e5883494f5c9e2558f090c58332beda7cfa9
     "metadata": {},
     "output_type": "execute_result"
    }
   ],
   "source": [
    "engine.execute('SELECT * FROM tornadoes LIMIT 10').fetchall()"
   ]
  },
  {
   "cell_type": "code",
<<<<<<< HEAD
   "execution_count": 115,
=======
   "execution_count": 132,
>>>>>>> c943e5883494f5c9e2558f090c58332beda7cfa9
   "metadata": {},
   "outputs": [],
   "source": [
    "Base = automap_base()\n",
    "Base.prepare(engine, reflect=True)\n",
    "Tornadoes = Base.classes.tornadoes"
   ]
  },
  {
   "cell_type": "code",
<<<<<<< HEAD
   "execution_count": 116,
=======
   "execution_count": 133,
>>>>>>> c943e5883494f5c9e2558f090c58332beda7cfa9
   "metadata": {},
   "outputs": [],
   "source": [
    "session = Session(engine)"
   ]
  },
  {
   "cell_type": "code",
<<<<<<< HEAD
   "execution_count": 125,
=======
   "execution_count": 134,
>>>>>>> c943e5883494f5c9e2558f090c58332beda7cfa9
   "metadata": {},
   "outputs": [
    {
     "name": "stdout",
     "output_type": "stream",
     "text": [
      "['EVENT_ID', 'CZ_NAME_STR', 'BEGIN_LOCATION', 'BEGIN_DATE', 'BEGIN_TIME', 'EVENT_TYPE', 'MAGNITUDE', 'TOR_F_SCALE', 'DEATHS_DIRECT', 'INJURIES_DIRECT', 'DAMAGE_PROPERTY_NUM', 'DAMAGE_CROPS_NUM', 'STATE_ABBR', 'CZ_TIMEZONE', 'MAGNITUDE_TYPE', 'EPISODE_ID', 'CZ_TYPE', 'CZ_FIPS', 'WFO', 'INJURIES_INDIRECT', 'DEATHS_INDIRECT', 'SOURCE', 'FLOOD_CAUSE', 'TOR_LENGTH', 'TOR_WIDTH', 'BEGIN_RANGE', 'BEGIN_AZIMUTH', 'END_RANGE', 'END_AZIMUTH', 'END_LOCATION', 'BEGIN_LAT', 'BEGIN_LON', 'END_LAT', 'END_LON', 'EVENT_NARRATIVE', 'EPISODE_NARRATIVE', 'ABSOLUTE_ROWNUMBER']\n"
     ]
    }
   ],
   "source": [
    "tornadoes = engine.execute('SELECT * FROM Tornadoes')\n",
    "print(tornadoes.keys())\n"
   ]
  },
  {
   "cell_type": "code",
   "execution_count": null,
   "metadata": {},
   "outputs": [],
   "source": []
  }
 ],
 "metadata": {
  "kernelspec": {
   "display_name": "Pandasenv",
   "language": "python",
   "name": "pandasenv"
  },
  "language_info": {
   "codemirror_mode": {
    "name": "ipython",
    "version": 3
   },
   "file_extension": ".py",
   "mimetype": "text/x-python",
   "name": "python",
   "nbconvert_exporter": "python",
   "pygments_lexer": "ipython3",
   "version": "3.8.3"
  }
 },
 "nbformat": 4,
 "nbformat_minor": 4
}
